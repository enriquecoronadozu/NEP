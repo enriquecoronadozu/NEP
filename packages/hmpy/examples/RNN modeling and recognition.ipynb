{
 "cells": [
  {
   "cell_type": "markdown",
   "metadata": {},
   "source": [
    "# RNN modeling and recognition example\n",
    "\n",
    "### Autor: Luis Enrique Coronado Zuñiga\n",
    "\n",
    "## Descrption:\n",
    "\n",
    "In this example RNN are used to modeling and recognition of 3 gestures."
   ]
  },
  {
   "cell_type": "markdown",
   "metadata": {},
   "source": [
    "## Code\n",
    "\n",
    "- We need to load the hmpy classes"
   ]
  },
  {
   "cell_type": "code",
   "execution_count": 1,
   "metadata": {},
   "outputs": [
    {
     "name": "stderr",
     "output_type": "stream",
     "text": [
      "Using Theano backend.\n",
      "WARNING (theano.configdefaults): g++ not detected ! Theano will be unable to execute optimized C-implementations (for both CPU and GPU) and will default to Python implementations. Performance will be severely degraded. To remove this warning, set Theano flags cxx to an empty string.\n"
     ]
    }
   ],
   "source": [
    "from hmpy import*\n",
    "from deep_hmpy import*"
   ]
  },
  {
   "cell_type": "markdown",
   "metadata": {},
   "source": [
    "- Then, we need to configurate the path, the number of training examples name and other characteristics of the models"
   ]
  },
  {
   "cell_type": "code",
   "execution_count": 2,
   "metadata": {},
   "outputs": [],
   "source": [
    "# Create a dictionary of models\n",
    "Models = [{ 'name': 'hand_up', 'training_examples': 10, 'threashlod': 80 },\n",
    "          { 'name': 'hand_pendulum', 'training_examples': 10, 'threashlod': 125},\n",
    "          { 'name': 'press_button', 'training_examples': 10, 'threashlod': 115},]\n",
    "\n",
    "# Create new gesture models\n",
    "# We define the model_description, the paths to load the training sets and to save the models, the type of data of the training sets\n",
    "# Set features as False to not extract body and gravity features, this can help to speed up the runtime recognition.\n",
    "models = hmpy_helper(Models, \"/data/segmented/\", \"/data/Gaussian_Models/\", \"3IMU_acc\", features = False)"
   ]
  },
  {
   "cell_type": "code",
   "execution_count": 3,
   "metadata": {},
   "outputs": [
    {
     "ename": "TypeError",
     "evalue": "__init__() takes exactly 4 arguments (5 given)",
     "output_type": "error",
     "traceback": [
      "\u001b[1;31m---------------------------------------------------------------------------\u001b[0m",
      "\u001b[1;31mTypeError\u001b[0m                                 Traceback (most recent call last)",
      "\u001b[1;32m<ipython-input-3-54f57745c295>\u001b[0m in \u001b[0;36m<module>\u001b[1;34m()\u001b[0m\n\u001b[0;32m      1\u001b[0m \u001b[1;33m\u001b[0m\u001b[0m\n\u001b[1;32m----> 2\u001b[1;33m \u001b[0mlist_models\u001b[0m\u001b[1;33m,\u001b[0m \u001b[0mX\u001b[0m\u001b[1;33m,\u001b[0m \u001b[0mY\u001b[0m\u001b[1;33m,\u001b[0m \u001b[0mn_examples\u001b[0m\u001b[1;33m,\u001b[0m \u001b[0mn_inputs\u001b[0m\u001b[1;33m,\u001b[0m \u001b[0mvalue\u001b[0m \u001b[1;33m=\u001b[0m \u001b[0mmodels\u001b[0m\u001b[1;33m.\u001b[0m\u001b[0mgenerate_DNN_datasets\u001b[0m\u001b[1;33m(\u001b[0m\u001b[1;33m)\u001b[0m\u001b[1;33m\u001b[0m\u001b[0m\n\u001b[0m\u001b[0;32m      3\u001b[0m \u001b[1;31m# Note: if the error `ValueError: need more than 2 values to unpack` appear\u001b[0m\u001b[1;33m\u001b[0m\u001b[1;33m\u001b[0m\u001b[0m\n\u001b[0;32m      4\u001b[0m \u001b[1;31m# maybe the number of samples of the training examples a specifc gestues are not the same for all\u001b[0m\u001b[1;33m\u001b[0m\u001b[1;33m\u001b[0m\u001b[0m\n",
      "\u001b[1;32mc:\\python27\\lib\\site-packages\\hmpy\\hmpy_helper.pyc\u001b[0m in \u001b[0;36mgenerate_DNN_datasets\u001b[1;34m(self)\u001b[0m\n\u001b[0;32m     66\u001b[0m         \u001b[1;31m# Generate a model for each type of gesture\u001b[0m\u001b[1;33m\u001b[0m\u001b[1;33m\u001b[0m\u001b[0m\n\u001b[0;32m     67\u001b[0m         \u001b[1;32mfor\u001b[0m \u001b[0mmodel\u001b[0m \u001b[1;32min\u001b[0m \u001b[0mself\u001b[0m\u001b[1;33m.\u001b[0m\u001b[0mmodels_description\u001b[0m\u001b[1;33m:\u001b[0m\u001b[1;33m\u001b[0m\u001b[0m\n\u001b[1;32m---> 68\u001b[1;33m             \u001b[0mgesture_model\u001b[0m \u001b[1;33m=\u001b[0m \u001b[0mhmpy\u001b[0m\u001b[1;33m.\u001b[0m\u001b[0mGestureModel\u001b[0m\u001b[1;33m(\u001b[0m\u001b[0mmodel\u001b[0m\u001b[1;33m[\u001b[0m\u001b[1;34m'name'\u001b[0m\u001b[1;33m]\u001b[0m\u001b[1;33m,\u001b[0m\u001b[0mself\u001b[0m\u001b[1;33m.\u001b[0m\u001b[0mpath_to_train\u001b[0m\u001b[1;33m,\u001b[0m\u001b[0mself\u001b[0m\u001b[1;33m.\u001b[0m\u001b[0mpath_to_save\u001b[0m\u001b[1;33m,\u001b[0m\u001b[0mmodel\u001b[0m\u001b[1;33m[\u001b[0m\u001b[1;34m'training_examples'\u001b[0m\u001b[1;33m]\u001b[0m\u001b[1;33m)\u001b[0m\u001b[1;33m\u001b[0m\u001b[0m\n\u001b[0m\u001b[0;32m     69\u001b[0m             \u001b[0mself\u001b[0m\u001b[1;33m.\u001b[0m\u001b[0mlist_models\u001b[0m\u001b[1;33m.\u001b[0m\u001b[0mappend\u001b[0m\u001b[1;33m(\u001b[0m\u001b[0mgesture_model\u001b[0m\u001b[1;33m)\u001b[0m\u001b[1;33m\u001b[0m\u001b[0m\n\u001b[0;32m     70\u001b[0m \u001b[1;33m\u001b[0m\u001b[0m\n",
      "\u001b[1;31mTypeError\u001b[0m: __init__() takes exactly 4 arguments (5 given)"
     ]
    }
   ],
   "source": [
    "\n",
    "list_models, X, Y, n_examples, n_inputs, value = models.generate_DNN_datasets()\n",
    "# Note: if the error `ValueError: need more than 2 values to unpack` appear \n",
    "# maybe the number of samples of the training examples a specifc gestues are not the same for all"
   ]
  },
  {
   "cell_type": "code",
   "execution_count": 4,
   "metadata": {
    "collapsed": true
   },
   "outputs": [],
   "source": [
    "deep_model = deep_helper(Models, list_models)\n",
    "\n",
    "    \n"
   ]
  },
  {
   "cell_type": "code",
   "execution_count": 5,
   "metadata": {},
   "outputs": [
    {
     "name": "stdout",
     "output_type": "stream",
     "text": [
      "DNN created\n",
      "Model compiled\n",
      "('Fit complete in', 4.760424852371216, 'seconds')\n",
      "Evaluation ****************************\n",
      "30/30 [==============================] - 0s\n",
      "acc: 100.00%\n",
      "(1.0, 0.0, 0.0)\n",
      "(1.0, 0.0, 0.0)\n",
      "(1.0, 0.0, 0.0)\n",
      "(1.0, 0.0, 0.0)\n",
      "(1.0, 0.0, 0.0)\n",
      "(1.0, 0.0, 0.0)\n",
      "(1.0, 0.0, 0.0)\n",
      "(1.0, 0.0, 0.0)\n",
      "(1.0, 0.0, 0.0)\n",
      "(1.0, 0.0, 0.0)\n",
      "(0.0, 1.0, 0.0)\n",
      "(0.0, 1.0, 0.0)\n",
      "(0.0, 1.0, 0.0)\n",
      "(0.0, 1.0, 0.0)\n",
      "(0.0, 1.0, 0.0)\n",
      "(0.0, 1.0, 0.0)\n",
      "(0.0, 1.0, 0.0)\n",
      "(0.0, 1.0, 0.0)\n",
      "(0.0, 1.0, 0.0)\n",
      "(0.0, 1.0, 0.0)\n",
      "(0.0, 0.0, 1.0)\n",
      "(0.0, 0.0, 1.0)\n",
      "(0.0, 0.0, 1.0)\n",
      "(0.0, 0.0, 1.0)\n",
      "(0.0, 0.0, 1.0)\n",
      "(0.0, 0.0, 1.0)\n",
      "(0.0, 0.0, 1.0)\n",
      "(0.0, 0.0, 1.0)\n",
      "(0.0, 0.0, 1.0)\n",
      "(0.0, 0.0, 1.0)\n",
      "Time  0.0616779327393\n",
      "Saving the deep model ****************\n",
      "The model was saved as model.json (dnn structure) and model.h5 (weights)\n"
     ]
    }
   ],
   "source": [
    "deep_model.train_network(X, Y, n_examples, n_inputs, seed  = 7)"
   ]
  },
  {
   "cell_type": "code",
   "execution_count": 6,
   "metadata": {},
   "outputs": [
    {
     "name": "stdout",
     "output_type": "stream",
     "text": [
      "Loaded model from disk\n"
     ]
    }
   ],
   "source": [
    "deep_model.load_deep_model('model.json', 'model.h5')\n"
   ]
  },
  {
   "cell_type": "code",
   "execution_count": 10,
   "metadata": {},
   "outputs": [
    {
     "name": "stdout",
     "output_type": "stream",
     "text": [
      "(1.0, 0.0, 0.0)\n",
      "Time  0.208698034286\n"
     ]
    }
   ],
   "source": [
    "#Todo el valor value aun no esta determinado\n",
    "deep_model.test_trainig_data(X,Y, value,0)"
   ]
  },
  {
   "cell_type": "code",
   "execution_count": 12,
   "metadata": {},
   "outputs": [
    {
     "ename": "NameError",
     "evalue": "name 'path_to_validate' is not defined",
     "output_type": "error",
     "traceback": [
      "\u001b[0;31m---------------------------------------------------------------------------\u001b[0m",
      "\u001b[0;31mNameError\u001b[0m                                 Traceback (most recent call last)",
      "\u001b[0;32m<ipython-input-12-01092d96ccdb>\u001b[0m in \u001b[0;36m<module>\u001b[0;34m()\u001b[0m\n\u001b[1;32m      1\u001b[0m \u001b[0mn_data\u001b[0m \u001b[0;34m=\u001b[0m \u001b[0;36m1\u001b[0m\u001b[0;34m\u001b[0m\u001b[0m\n\u001b[0;32m----> 2\u001b[0;31m \u001b[0msfile\u001b[0m \u001b[0;34m=\u001b[0m \u001b[0mpath_to_validate\u001b[0m \u001b[0;34m+\u001b[0m \u001b[0mname_model1\u001b[0m \u001b[0;34m+\u001b[0m \u001b[0;34m\"/acc\"\u001b[0m \u001b[0;34m+\u001b[0m \u001b[0mstr\u001b[0m\u001b[0;34m(\u001b[0m\u001b[0mn_data\u001b[0m\u001b[0;34m)\u001b[0m \u001b[0;34m+\u001b[0m   \u001b[0;34m\".txt\"\u001b[0m\u001b[0;34m\u001b[0m\u001b[0m\n\u001b[0m\u001b[1;32m      3\u001b[0m \u001b[0;32mprint\u001b[0m \u001b[0msfile\u001b[0m\u001b[0;34m\u001b[0m\u001b[0m\n",
      "\u001b[0;31mNameError\u001b[0m: name 'path_to_validate' is not defined"
     ]
    }
   ],
   "source": [
    "import os\n",
    "dir_path = os.getcwd()\n",
    "print dir_path\n",
    "\n",
    "n_data = 1\n",
    "sfile = path_to_validate + name_model1 + \"/acc\" + str(n_data) +   \".txt\"\n",
    "print sfile\n"
   ]
  },
  {
   "cell_type": "code",
   "execution_count": null,
   "metadata": {
    "collapsed": true
   },
   "outputs": [],
   "source": []
  }
 ],
 "metadata": {
  "kernelspec": {
   "display_name": "Python 2",
   "language": "python",
   "name": "python2"
  },
  "language_info": {
   "codemirror_mode": {
    "name": "ipython",
    "version": 2
   },
   "file_extension": ".py",
   "mimetype": "text/x-python",
   "name": "python",
   "nbconvert_exporter": "python",
   "pygments_lexer": "ipython2",
   "version": "2.7.10"
  }
 },
 "nbformat": 4,
 "nbformat_minor": 1
}
