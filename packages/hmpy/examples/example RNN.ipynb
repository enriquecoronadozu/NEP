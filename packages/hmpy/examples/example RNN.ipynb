{
 "cells": [
  {
   "cell_type": "code",
   "execution_count": 5,
   "metadata": {},
   "outputs": [],
   "source": [
    "from keras.models import Sequential\n",
    "from keras.layers import Dense, Dropout, Activation\n",
    "from keras.optimizers import SGD\n",
    "import keras\n",
    "\n",
    "# Generate dummy data\n",
    "import numpy as np\n",
    "x_train = np.random.random((1000, 20))\n",
    "\n",
    "x_test = np.random.random((100, 20))\n"
   ]
  },
  {
   "cell_type": "code",
   "execution_count": 4,
   "metadata": {},
   "outputs": [
    {
     "name": "stdout",
     "output_type": "stream",
     "text": [
      "[[ 0.37535883  0.587367    0.22717766 ...,  0.16206103  0.95033778\n",
      "   0.81043662]\n",
      " [ 0.62093876  0.37558783  0.72108573 ...,  0.41938695  0.13483776\n",
      "   0.93055454]\n",
      " [ 0.2882399   0.55769712  0.56753095 ...,  0.71396697  0.91704313\n",
      "   0.65475752]\n",
      " ..., \n",
      " [ 0.71153558  0.24403342  0.34176983 ...,  0.53802558  0.59034808\n",
      "   0.6670726 ]\n",
      " [ 0.84786237  0.35342867  0.07268166 ...,  0.33933613  0.26584592\n",
      "   0.40427586]\n",
      " [ 0.91956815  0.7518233   0.04722846 ...,  0.08595915  0.6048667\n",
      "   0.26481792]]\n"
     ]
    }
   ],
   "source": [
    "print x_test"
   ]
  },
  {
   "cell_type": "code",
   "execution_count": null,
   "metadata": {
    "collapsed": true
   },
   "outputs": [],
   "source": []
  }
 ],
 "metadata": {
  "kernelspec": {
   "display_name": "Python 2",
   "language": "python",
   "name": "python2"
  }
 },
 "nbformat": 4,
 "nbformat_minor": 2
}
